{
 "cells": [
  {
   "cell_type": "code",
   "execution_count": 2,
   "id": "2450bd92",
   "metadata": {},
   "outputs": [],
   "source": [
    "import pandas as pd\n",
    "import numpy as np \n",
    "import seaborn as sns \n",
    "import datetime\n",
    "import time\n",
    "\n",
    "df = pd.read_csv(r\"C:\\Users\\steve\\OneDrive\\Documentos\\python\\base_datos_2008.csv\")\n",
    "df2 = df[df.Origin.isin([\"ATL\", \"HOU\", \"IND\"])]\n",
    "df = df.head(500000)"
   ]
  },
  {
   "cell_type": "code",
   "execution_count": 3,
   "id": "dcc6b880",
   "metadata": {},
   "outputs": [],
   "source": [
    "times = []\n",
    "for i in df.index:\n",
    "    times.append(datetime.datetime(\n",
    "        year = df.loc[i,\"Year\"], \n",
    "        month= df.loc[i,\"Month\"],\n",
    "        day = df.loc[i, \"DayofMonth\"]))\n",
    "    "
   ]
  },
  {
   "cell_type": "code",
   "execution_count": 4,
   "id": "9941fc9c",
   "metadata": {},
   "outputs": [],
   "source": [
    "df[\"Times\"] = times "
   ]
  },
  {
   "cell_type": "code",
   "execution_count": 5,
   "id": "bbfaa000",
   "metadata": {},
   "outputs": [],
   "source": [
    "data_retrasos = df.groupby(by=[\"Times\"],as_index=True)[[\"ArrDelay\", \"DepDelay\"]].mean()"
   ]
  },
  {
   "cell_type": "code",
   "execution_count": 6,
   "id": "b3736f70",
   "metadata": {},
   "outputs": [
    {
     "data": {
      "application/vnd.microsoft.datawrangler.viewer.v0+json": {
       "columns": [
        {
         "name": "Times",
         "rawType": "datetime64[ns]",
         "type": "datetime"
        },
        {
         "name": "ArrDelay",
         "rawType": "float64",
         "type": "float"
        },
        {
         "name": "DepDelay",
         "rawType": "float64",
         "type": "float"
        }
       ],
       "conversionMethod": "pd.DataFrame",
       "ref": "44e5ef94-a6f7-4ef9-9ad6-763bd514f079",
       "rows": [
        [
         "2008-01-01 00:00:00",
         "20.99924012158055",
         "20.545598676501"
        ],
        [
         "2008-01-02 00:00:00",
         "22.13119442890008",
         "23.32422190470274"
        ],
        [
         "2008-01-03 00:00:00",
         "14.479569093610698",
         "16.697759346372866"
        ],
        [
         "2008-01-04 00:00:00",
         "11.851732626396515",
         "14.058086847073632"
        ],
        [
         "2008-01-05 00:00:00",
         "17.138031238648747",
         "18.38155515370705"
        ],
        [
         "2008-01-06 00:00:00",
         "16.176673980982777",
         "18.100517515923567"
        ],
        [
         "2008-01-07 00:00:00",
         "11.39779255147486",
         "12.897454031117398"
        ],
        [
         "2008-01-08 00:00:00",
         "10.469449765506308",
         "11.32834541858932"
        ],
        [
         "2008-01-09 00:00:00",
         "1.190417531120332",
         "4.647451259796619"
        ],
        [
         "2008-01-10 00:00:00",
         "6.776395149514316",
         "8.089981623471262"
        ],
        [
         "2008-01-11 00:00:00",
         "6.414024117909781",
         "8.802675159235669"
        ],
        [
         "2008-01-12 00:00:00",
         "-4.563492684453486",
         "1.4369583886329924"
        ],
        [
         "2008-01-13 00:00:00",
         "2.87854609929078",
         "5.821134336488051"
        ],
        [
         "2008-01-14 00:00:00",
         "2.9332985930171964",
         "5.353220559531555"
        ],
        [
         "2008-01-15 00:00:00",
         "0.9600953695570335",
         "4.099981218305891"
        ],
        [
         "2008-01-16 00:00:00",
         "1.2149544072948328",
         "3.4448685326547923"
        ],
        [
         "2008-01-17 00:00:00",
         "20.173359985462476",
         "18.469482716944647"
        ],
        [
         "2008-01-18 00:00:00",
         "10.042813099877844",
         "10.986286245569179"
        ],
        [
         "2008-01-19 00:00:00",
         "8.950604838709678",
         "10.987451587916343"
        ],
        [
         "2008-01-20 00:00:00",
         "3.2020821357859104",
         "6.623843257387198"
        ],
        [
         "2008-01-21 00:00:00",
         "20.835433211918552",
         "19.566672622238105"
        ],
        [
         "2008-01-22 00:00:00",
         "16.94403543798353",
         "15.979304326143872"
        ],
        [
         "2008-01-23 00:00:00",
         "10.022226259689923",
         "9.804027089128068"
        ],
        [
         "2008-01-24 00:00:00",
         "7.367112362186254",
         "7.951530761575835"
        ],
        [
         "2008-01-25 00:00:00",
         "11.46737911082246",
         "11.719813602312275"
        ],
        [
         "2008-01-26 00:00:00",
         "4.834745445002624",
         "6.079590464090876"
        ],
        [
         "2008-01-27 00:00:00",
         "20.370130710495665",
         "20.954399279650115"
        ],
        [
         "2008-01-28 00:00:00",
         "9.747311504956443",
         "11.487685024270391"
        ],
        [
         "2008-01-29 00:00:00",
         "9.6751208487664",
         "9.37725"
        ],
        [
         "2008-01-30 00:00:00",
         "3.9354976505766768",
         "6.444688242823185"
        ],
        [
         "2008-01-31 00:00:00",
         "23.33186355563721",
         "20.495672315006704"
        ]
       ],
       "shape": {
        "columns": 2,
        "rows": 31
       }
      },
      "text/html": [
       "<div>\n",
       "<style scoped>\n",
       "    .dataframe tbody tr th:only-of-type {\n",
       "        vertical-align: middle;\n",
       "    }\n",
       "\n",
       "    .dataframe tbody tr th {\n",
       "        vertical-align: top;\n",
       "    }\n",
       "\n",
       "    .dataframe thead th {\n",
       "        text-align: right;\n",
       "    }\n",
       "</style>\n",
       "<table border=\"1\" class=\"dataframe\">\n",
       "  <thead>\n",
       "    <tr style=\"text-align: right;\">\n",
       "      <th></th>\n",
       "      <th>ArrDelay</th>\n",
       "      <th>DepDelay</th>\n",
       "    </tr>\n",
       "    <tr>\n",
       "      <th>Times</th>\n",
       "      <th></th>\n",
       "      <th></th>\n",
       "    </tr>\n",
       "  </thead>\n",
       "  <tbody>\n",
       "    <tr>\n",
       "      <th>2008-01-01</th>\n",
       "      <td>20.999240</td>\n",
       "      <td>20.545599</td>\n",
       "    </tr>\n",
       "    <tr>\n",
       "      <th>2008-01-02</th>\n",
       "      <td>22.131194</td>\n",
       "      <td>23.324222</td>\n",
       "    </tr>\n",
       "    <tr>\n",
       "      <th>2008-01-03</th>\n",
       "      <td>14.479569</td>\n",
       "      <td>16.697759</td>\n",
       "    </tr>\n",
       "    <tr>\n",
       "      <th>2008-01-04</th>\n",
       "      <td>11.851733</td>\n",
       "      <td>14.058087</td>\n",
       "    </tr>\n",
       "    <tr>\n",
       "      <th>2008-01-05</th>\n",
       "      <td>17.138031</td>\n",
       "      <td>18.381555</td>\n",
       "    </tr>\n",
       "    <tr>\n",
       "      <th>2008-01-06</th>\n",
       "      <td>16.176674</td>\n",
       "      <td>18.100518</td>\n",
       "    </tr>\n",
       "    <tr>\n",
       "      <th>2008-01-07</th>\n",
       "      <td>11.397793</td>\n",
       "      <td>12.897454</td>\n",
       "    </tr>\n",
       "    <tr>\n",
       "      <th>2008-01-08</th>\n",
       "      <td>10.469450</td>\n",
       "      <td>11.328345</td>\n",
       "    </tr>\n",
       "    <tr>\n",
       "      <th>2008-01-09</th>\n",
       "      <td>1.190418</td>\n",
       "      <td>4.647451</td>\n",
       "    </tr>\n",
       "    <tr>\n",
       "      <th>2008-01-10</th>\n",
       "      <td>6.776395</td>\n",
       "      <td>8.089982</td>\n",
       "    </tr>\n",
       "    <tr>\n",
       "      <th>2008-01-11</th>\n",
       "      <td>6.414024</td>\n",
       "      <td>8.802675</td>\n",
       "    </tr>\n",
       "    <tr>\n",
       "      <th>2008-01-12</th>\n",
       "      <td>-4.563493</td>\n",
       "      <td>1.436958</td>\n",
       "    </tr>\n",
       "    <tr>\n",
       "      <th>2008-01-13</th>\n",
       "      <td>2.878546</td>\n",
       "      <td>5.821134</td>\n",
       "    </tr>\n",
       "    <tr>\n",
       "      <th>2008-01-14</th>\n",
       "      <td>2.933299</td>\n",
       "      <td>5.353221</td>\n",
       "    </tr>\n",
       "    <tr>\n",
       "      <th>2008-01-15</th>\n",
       "      <td>0.960095</td>\n",
       "      <td>4.099981</td>\n",
       "    </tr>\n",
       "    <tr>\n",
       "      <th>2008-01-16</th>\n",
       "      <td>1.214954</td>\n",
       "      <td>3.444869</td>\n",
       "    </tr>\n",
       "    <tr>\n",
       "      <th>2008-01-17</th>\n",
       "      <td>20.173360</td>\n",
       "      <td>18.469483</td>\n",
       "    </tr>\n",
       "    <tr>\n",
       "      <th>2008-01-18</th>\n",
       "      <td>10.042813</td>\n",
       "      <td>10.986286</td>\n",
       "    </tr>\n",
       "    <tr>\n",
       "      <th>2008-01-19</th>\n",
       "      <td>8.950605</td>\n",
       "      <td>10.987452</td>\n",
       "    </tr>\n",
       "    <tr>\n",
       "      <th>2008-01-20</th>\n",
       "      <td>3.202082</td>\n",
       "      <td>6.623843</td>\n",
       "    </tr>\n",
       "    <tr>\n",
       "      <th>2008-01-21</th>\n",
       "      <td>20.835433</td>\n",
       "      <td>19.566673</td>\n",
       "    </tr>\n",
       "    <tr>\n",
       "      <th>2008-01-22</th>\n",
       "      <td>16.944035</td>\n",
       "      <td>15.979304</td>\n",
       "    </tr>\n",
       "    <tr>\n",
       "      <th>2008-01-23</th>\n",
       "      <td>10.022226</td>\n",
       "      <td>9.804027</td>\n",
       "    </tr>\n",
       "    <tr>\n",
       "      <th>2008-01-24</th>\n",
       "      <td>7.367112</td>\n",
       "      <td>7.951531</td>\n",
       "    </tr>\n",
       "    <tr>\n",
       "      <th>2008-01-25</th>\n",
       "      <td>11.467379</td>\n",
       "      <td>11.719814</td>\n",
       "    </tr>\n",
       "    <tr>\n",
       "      <th>2008-01-26</th>\n",
       "      <td>4.834745</td>\n",
       "      <td>6.079590</td>\n",
       "    </tr>\n",
       "    <tr>\n",
       "      <th>2008-01-27</th>\n",
       "      <td>20.370131</td>\n",
       "      <td>20.954399</td>\n",
       "    </tr>\n",
       "    <tr>\n",
       "      <th>2008-01-28</th>\n",
       "      <td>9.747312</td>\n",
       "      <td>11.487685</td>\n",
       "    </tr>\n",
       "    <tr>\n",
       "      <th>2008-01-29</th>\n",
       "      <td>9.675121</td>\n",
       "      <td>9.377250</td>\n",
       "    </tr>\n",
       "    <tr>\n",
       "      <th>2008-01-30</th>\n",
       "      <td>3.935498</td>\n",
       "      <td>6.444688</td>\n",
       "    </tr>\n",
       "    <tr>\n",
       "      <th>2008-01-31</th>\n",
       "      <td>23.331864</td>\n",
       "      <td>20.495672</td>\n",
       "    </tr>\n",
       "  </tbody>\n",
       "</table>\n",
       "</div>"
      ],
      "text/plain": [
       "             ArrDelay   DepDelay\n",
       "Times                           \n",
       "2008-01-01  20.999240  20.545599\n",
       "2008-01-02  22.131194  23.324222\n",
       "2008-01-03  14.479569  16.697759\n",
       "2008-01-04  11.851733  14.058087\n",
       "2008-01-05  17.138031  18.381555\n",
       "2008-01-06  16.176674  18.100518\n",
       "2008-01-07  11.397793  12.897454\n",
       "2008-01-08  10.469450  11.328345\n",
       "2008-01-09   1.190418   4.647451\n",
       "2008-01-10   6.776395   8.089982\n",
       "2008-01-11   6.414024   8.802675\n",
       "2008-01-12  -4.563493   1.436958\n",
       "2008-01-13   2.878546   5.821134\n",
       "2008-01-14   2.933299   5.353221\n",
       "2008-01-15   0.960095   4.099981\n",
       "2008-01-16   1.214954   3.444869\n",
       "2008-01-17  20.173360  18.469483\n",
       "2008-01-18  10.042813  10.986286\n",
       "2008-01-19   8.950605  10.987452\n",
       "2008-01-20   3.202082   6.623843\n",
       "2008-01-21  20.835433  19.566673\n",
       "2008-01-22  16.944035  15.979304\n",
       "2008-01-23  10.022226   9.804027\n",
       "2008-01-24   7.367112   7.951531\n",
       "2008-01-25  11.467379  11.719814\n",
       "2008-01-26   4.834745   6.079590\n",
       "2008-01-27  20.370131  20.954399\n",
       "2008-01-28   9.747312  11.487685\n",
       "2008-01-29   9.675121   9.377250\n",
       "2008-01-30   3.935498   6.444688\n",
       "2008-01-31  23.331864  20.495672"
      ]
     },
     "execution_count": 6,
     "metadata": {},
     "output_type": "execute_result"
    }
   ],
   "source": [
    "data_retrasos.head(40)"
   ]
  },
  {
   "cell_type": "code",
   "execution_count": 7,
   "id": "d6e74076",
   "metadata": {},
   "outputs": [
    {
     "data": {
      "text/plain": [
       "<Axes: xlabel='Times'>"
      ]
     },
     "execution_count": 7,
     "metadata": {},
     "output_type": "execute_result"
    },
    {
     "data": {
      "image/png": "[encoded data removed]",
      "text/plain": [
       "<Figure size 640x480 with 1 Axes>"
      ]
     },
     "metadata": {},
     "output_type": "display_data"
    }
   ],
   "source": [
    "sns.lineplot(data = data_retrasos)"
   ]
  },
  {
   "cell_type": "code",
   "execution_count": null,
   "id": "8086ae34",
   "metadata": {},
   "outputs": [],
   "source": []
  },
  {
   "cell_type": "code",
   "execution_count": null,
   "id": "0e1dd8c9",
   "metadata": {},
   "outputs": [],
   "source": []
  }
 ],
 "metadata": {
  "kernelspec": {
   "display_name": "Python 3",
   "language": "python",
   "name": "python3"
  },
  "language_info": {
   "codemirror_mode": {
    "name": "ipython",
    "version": 3
   },
   "file_extension": ".py",
   "mimetype": "text/x-python",
   "name": "python",
   "nbconvert_exporter": "python",
   "pygments_lexer": "ipython3",
   "version": "3.13.2"
  }
 },
 "nbformat": 4,
 "nbformat_minor": 5
}
